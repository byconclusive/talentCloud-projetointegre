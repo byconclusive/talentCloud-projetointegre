{
 "cells": [
  {
   "cell_type": "code",
   "execution_count": null,
   "metadata": {
    "vscode": {
     "languageId": "plaintext"
    }
   },
   "outputs": [],
   "source": [
    "# @title IMPORTAÇÃO DAS BIBLIOTECAS\n",
    "import psycopg2 as pg"
   ]
  },
  {
   "cell_type": "code",
   "execution_count": null,
   "metadata": {
    "vscode": {
     "languageId": "plaintext"
    }
   },
   "outputs": [],
   "source": [
    "# @title CONEXÃO COM BANCO DE DADOS\n",
    "USER = \"postgres\"\n",
    "SENHA = \"ZAQwsx123!@#\"\n",
    "HOST = \"localhost\"\n",
    "DATABASE = \"datatran\"\n",
    "\n",
    "try:\n",
    "    conn = pg.connect(\n",
    "            host = HOST,\n",
    "            database = DATABASE,\n",
    "            user = USER,\n",
    "            password = SENHA)\n",
    "except Exception as e:\n",
    "    print(\"Erro na conexão.\", type(e))"
   ]
  }
 ],
 "metadata": {
  "kernelspec": {
   "display_name": "Python 3",
   "language": "python",
   "name": "python3"
  },
  "language_info": {
   "codemirror_mode": {
    "name": "ipython",
    "version": 3
   },
   "file_extension": ".py",
   "mimetype": "text/x-python",
   "name": "python",
   "nbconvert_exporter": "python",
   "pygments_lexer": "ipython3",
   "version": "3.10.6"
  }
 },
 "nbformat": 4,
 "nbformat_minor": 2
}
