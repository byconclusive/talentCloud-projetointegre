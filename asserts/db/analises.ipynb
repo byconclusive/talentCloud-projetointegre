{
 "cells": [
  {
   "cell_type": "code",
   "execution_count": 1,
   "metadata": {},
   "outputs": [],
   "source": [
    "# @title INSTALAÇÃO DOS MÓDULOS NECESSÁRIOS\n",
    "\n",
    "# Remver comentário da linha abaixo, caso seja necessário instalar o Pandas\n",
    "#!pip install pandas -q"
   ]
  },
  {
   "cell_type": "code",
   "execution_count": 2,
   "metadata": {},
   "outputs": [],
   "source": [
    "# @title IMPORTAÇÃO DAS BIBLIOTECAS\n",
    "\n",
    "import sqlite3 as sq\n",
    "import pandas as pd\n",
    "import json"
   ]
  },
  {
   "cell_type": "code",
   "execution_count": 3,
   "metadata": {},
   "outputs": [],
   "source": [
    "# @title CONEXÃO COM A BASE DE DADOS SQLITE\n",
    "\n",
    "BASE = \"datatran\"\n",
    "conn = sq.connect(f\"{BASE}.db\", check_same_thread=False)"
   ]
  },
  {
   "cell_type": "code",
   "execution_count": 4,
   "metadata": {},
   "outputs": [
    {
     "data": {
      "text/plain": [
       "['Acre',\n",
       " 'Alagoas',\n",
       " 'Amapá',\n",
       " 'Amazonas',\n",
       " 'Bahia',\n",
       " 'Ceará',\n",
       " 'Distrito Federal',\n",
       " 'Espírito Santo',\n",
       " 'Goiás',\n",
       " 'Maranhão',\n",
       " 'Mato Grosso',\n",
       " 'Mato Grosso do Sul',\n",
       " 'Minas Gerais',\n",
       " 'Pará',\n",
       " 'Paraíba',\n",
       " 'Paraná',\n",
       " 'Pernambuco',\n",
       " 'Piauí',\n",
       " 'Rio Grande do Norte',\n",
       " 'Rio Grande do Sul',\n",
       " 'Rio de Janeiro',\n",
       " 'Rondônia',\n",
       " 'Roraima',\n",
       " 'Santa Catarina',\n",
       " 'São Paulo',\n",
       " 'Sergipe',\n",
       " 'Tocantins']"
      ]
     },
     "execution_count": 4,
     "metadata": {},
     "output_type": "execute_result"
    }
   ],
   "source": [
    "# @title CONSULTA DOS NOMES DE ESTADOS\n",
    "\n",
    "query = f\"SELECT * FROM estados\"\n",
    "lista_estados = pd.read_sql(query, conn)['estado'].to_list()\n",
    "lista_estados"
   ]
  },
  {
   "cell_type": "code",
   "execution_count": 50,
   "metadata": {},
   "outputs": [
    {
     "data": {
      "text/plain": [
       "['AC',\n",
       " 'AL',\n",
       " 'AP',\n",
       " 'AM',\n",
       " 'BA',\n",
       " 'CE',\n",
       " 'DF',\n",
       " 'ES',\n",
       " 'GO',\n",
       " 'MA',\n",
       " 'MT',\n",
       " 'MS',\n",
       " 'MG',\n",
       " 'PA',\n",
       " 'PB',\n",
       " 'PR',\n",
       " 'PE',\n",
       " 'PI',\n",
       " 'RN',\n",
       " 'RS',\n",
       " 'RJ',\n",
       " 'RO',\n",
       " 'RR',\n",
       " 'SC',\n",
       " 'SP',\n",
       " 'SE',\n",
       " 'TO']"
      ]
     },
     "execution_count": 50,
     "metadata": {},
     "output_type": "execute_result"
    }
   ],
   "source": [
    "# @title CONSULTA DOS CÓDIGOS DE UF\n",
    "\n",
    "query = f\"SELECT * FROM estados\"\n",
    "lista_ufs = pd.read_sql(query, conn)['uf'].to_list()\n",
    "lista_ufs"
   ]
  },
  {
   "cell_type": "code",
   "execution_count": 5,
   "metadata": {},
   "outputs": [
    {
     "data": {
      "text/plain": [
       "{'Minas Gerais': 8290,\n",
       " 'Santa Catarina': 7589,\n",
       " 'Paraná': 7377,\n",
       " 'Rio Grande do Sul': 4929,\n",
       " 'Rio de Janeiro': 4704,\n",
       " 'São Paulo': 4385,\n",
       " 'Bahia': 3440,\n",
       " 'Goiás': 3112,\n",
       " 'Pernambuco': 2746,\n",
       " 'Espírito Santo': 2278,\n",
       " 'Mato Grosso': 2175,\n",
       " 'Mato Grosso do Sul': 1638,\n",
       " 'Paraíba': 1474,\n",
       " 'Rondônia': 1378,\n",
       " 'Ceará': 1373,\n",
       " 'Rio Grande do Norte': 1287,\n",
       " 'Piauí': 1114,\n",
       " 'Maranhão': 1084,\n",
       " 'Distrito Federal': 922,\n",
       " 'Pará': 831,\n",
       " 'Alagoas': 595,\n",
       " 'Tocantins': 568,\n",
       " 'Sergipe': 511,\n",
       " 'Roraima': 229,\n",
       " 'Acre': 224,\n",
       " 'Amapá': 180,\n",
       " 'Amazonas': 114}"
      ]
     },
     "execution_count": 5,
     "metadata": {},
     "output_type": "execute_result"
    }
   ],
   "source": [
    "# @title CONSULTA POR ESTADO: NÚMEROS DE ACIDENTES\n",
    "\n",
    "query = f\"\"\"\n",
    "    SELECT e.estado, COUNT(*)\n",
    "    FROM estados AS e\n",
    "        INNER JOIN ocorrencias AS o\n",
    "            ON e.cod = o.cod_estado \n",
    "        INNER JOIN acidentes AS a \n",
    "            ON a.cod = o.cod_acidente\n",
    "    GROUP BY e.estado\n",
    "    ORDER BY COUNT(*) DESC;\n",
    "    \"\"\"\n",
    "df = pd.read_sql_query(query, con=conn)\n",
    "df.columns = ['Estado','Acidentes']\n",
    "\n",
    "dict_acidentes = {}\n",
    "dados = zip(df['Estado'], df['Acidentes'])\n",
    "for estado, acidentes in dados:\n",
    "    dict_acidentes[estado] = acidentes\n",
    "    \n",
    "dict_acidentes"
   ]
  },
  {
   "cell_type": "code",
   "execution_count": 6,
   "metadata": {},
   "outputs": [
    {
     "data": {
      "text/plain": [
       "{'Minas Gerais': 701,\n",
       " 'Paraná': 571,\n",
       " 'Bahia': 528,\n",
       " 'Santa Catarina': 350,\n",
       " 'Rio Grande do Sul': 334,\n",
       " 'Pernambuco': 305,\n",
       " 'Goiás': 291,\n",
       " 'Mato Grosso': 263,\n",
       " 'Rio de Janeiro': 257,\n",
       " 'São Paulo': 223,\n",
       " 'Maranhão': 211,\n",
       " 'Pará': 183,\n",
       " 'Mato Grosso do Sul': 167,\n",
       " 'Espírito Santo': 154,\n",
       " 'Ceará': 148,\n",
       " 'Piauí': 137,\n",
       " 'Paraíba': 129,\n",
       " 'Rio Grande do Norte': 94,\n",
       " 'Rondônia': 86,\n",
       " 'Tocantins': 81,\n",
       " 'Alagoas': 54,\n",
       " 'Sergipe': 47,\n",
       " 'Distrito Federal': 44,\n",
       " 'Roraima': 24,\n",
       " 'Amapá': 20,\n",
       " 'Amazonas': 19,\n",
       " 'Acre': 18}"
      ]
     },
     "execution_count": 6,
     "metadata": {},
     "output_type": "execute_result"
    }
   ],
   "source": [
    "# @title CONSULTA POR ESTADO: NÚMEROS DE MORTES\n",
    "\n",
    "query = f\"\"\"\n",
    "    SELECT e.estado, sum(a.mortos)\n",
    "    FROM estados AS e\n",
    "        INNER JOIN ocorrencias AS o\n",
    "            ON e.cod = o.cod_estado \n",
    "        INNER JOIN acidentes AS a \n",
    "            ON a.cod = o.cod_acidente\n",
    "    GROUP BY e.estado\n",
    "    ORDER BY sum(a.mortos) DESC;\n",
    "    \"\"\"\n",
    "df = pd.read_sql_query(query, con=conn)\n",
    "df.columns = ['Estado','Fatalidades']\n",
    "\n",
    "dict_fatalidades = {}\n",
    "dados = zip(df['Estado'], df['Fatalidades'])\n",
    "for estado, fatalidades in dados:\n",
    "    dict_fatalidades[estado] = fatalidades\n",
    "\n",
    "dict_fatalidades"
   ]
  },
  {
   "cell_type": "code",
   "execution_count": 46,
   "metadata": {},
   "outputs": [
    {
     "data": {
      "text/plain": [
       "{'Acre': 364,\n",
       " 'Alagoas': 101,\n",
       " 'Amapá': 210,\n",
       " 'Amazonas': 230,\n",
       " 'Bahia': 116,\n",
       " 'Ceará': 116,\n",
       " 'Distrito Federal': 251,\n",
       " 'Espírito Santo': 262,\n",
       " 'Goiás': 20,\n",
       " 'Maranhão': 316,\n",
       " 'Mato Grosso': 364,\n",
       " 'Mato Grosso do Sul': 262,\n",
       " 'Minas Gerais': 40,\n",
       " 'Pará': 316,\n",
       " 'Paraíba': 361,\n",
       " 'Paraná': 376,\n",
       " 'Pernambuco': 101,\n",
       " 'Piauí': 316,\n",
       " 'Rio Grande do Norte': 101,\n",
       " 'Rio Grande do Sul': 285,\n",
       " 'Rio de Janeiro': 116,\n",
       " 'Rondônia': 435,\n",
       " 'Roraima': 432,\n",
       " 'Santa Catarina': 282,\n",
       " 'São Paulo': 381,\n",
       " 'Sergipe': 235,\n",
       " 'Tocantins': 226}"
      ]
     },
     "execution_count": 46,
     "metadata": {},
     "output_type": "execute_result"
    }
   ],
   "source": [
    "# @title CONSULTA POR ESTADO: VIA MAIS LETAL\n",
    "#for estado in lista_estados:\n",
    "\n",
    "dict_via = {}\n",
    "for estado in lista_estados:\n",
    "    query = f\"\"\"\n",
    "        SELECT e.estado, a.rodovia, sum(a.mortos)\n",
    "        FROM estados AS e\n",
    "        INNER JOIN ocorrencias AS o\n",
    "            ON e.cod = o.cod_estado\n",
    "        INNER JOIN acidentes AS a \n",
    "            ON a.cod = o.cod_acidente\n",
    "        WHERE e.estado = '{estado}'\n",
    "        GROUP BY e.estado, a.rodovia\n",
    "        ORDER BY sum(a.mortos) DESC; \n",
    "    \"\"\"\n",
    "        \n",
    "    df = pd.read_sql_query(query, con=conn)\n",
    "    rodovia = df['rodovia'][1]\n",
    "    dict_via[estado] = int(rodovia)\n",
    "dict_via"
   ]
  },
  {
   "cell_type": "code",
   "execution_count": 39,
   "metadata": {},
   "outputs": [
    {
     "data": {
      "text/plain": [
       "{'Acre': 'Acessar a via sem observar a presença dos outros veículos',\n",
       " 'Alagoas': 'Acessar a via sem observar a presença dos outros veículos',\n",
       " 'Amapá': 'Acessar a via sem observar a presença dos outros veículos',\n",
       " 'Amazonas': 'Reação tardia ou ineficiente do condutor',\n",
       " 'Bahia': 'Acessar a via sem observar a presença dos outros veículos',\n",
       " 'Ceará': 'Acessar a via sem observar a presença dos outros veículos',\n",
       " 'Distrito Federal': 'Acessar a via sem observar a presença dos outros veículos',\n",
       " 'Espírito Santo': 'Acessar a via sem observar a presença dos outros veículos',\n",
       " 'Goiás': 'Reação tardia ou ineficiente do condutor',\n",
       " 'Maranhão': 'Reação tardia ou ineficiente do condutor',\n",
       " 'Mato Grosso': 'Reação tardia ou ineficiente do condutor',\n",
       " 'Mato Grosso do Sul': 'Ausência de reação do condutor',\n",
       " 'Minas Gerais': 'Velocidade Incompatível',\n",
       " 'Pará': 'Reação tardia ou ineficiente do condutor',\n",
       " 'Paraíba': 'Ausência de reação do condutor',\n",
       " 'Paraná': 'Reação tardia ou ineficiente do condutor',\n",
       " 'Pernambuco': 'Acessar a via sem observar a presença dos outros veículos',\n",
       " 'Piauí': 'Ausência de reação do condutor',\n",
       " 'Rio Grande do Norte': 'Acessar a via sem observar a presença dos outros veículos',\n",
       " 'Rio Grande do Sul': 'Reação tardia ou ineficiente do condutor',\n",
       " 'Rio de Janeiro': 'Reação tardia ou ineficiente do condutor',\n",
       " 'Rondônia': 'Reação tardia ou ineficiente do condutor',\n",
       " 'Roraima': 'Ingestão de álcool pelo condutor',\n",
       " 'Santa Catarina': 'Reação tardia ou ineficiente do condutor',\n",
       " 'São Paulo': 'Reação tardia ou ineficiente do condutor',\n",
       " 'Sergipe': 'Acessar a via sem observar a presença dos outros veículos',\n",
       " 'Tocantins': 'Reação tardia ou ineficiente do condutor'}"
      ]
     },
     "execution_count": 39,
     "metadata": {},
     "output_type": "execute_result"
    }
   ],
   "source": [
    "# @title CONSULTA POR ESTADO: PRINCIPAL CAUSA DE ACIDENTE\n",
    "\n",
    "dict_causa = {}\n",
    "for estado in lista_estados:\n",
    "    query = f\"\"\"\n",
    "            SELECT e.estado, c.descricao, count(*)\n",
    "            FROM estados AS e\n",
    "            INNER JOIN ocorrencias AS o\n",
    "                ON e.cod = o.cod_estado\n",
    "            INNER JOIN acidentes AS a \n",
    "                ON a.cod = o.cod_acidente\n",
    "            INNER JOIN causas AS c\n",
    "                ON c.cod = o.cod_causa\n",
    "            WHERE e.estado = '{estado}'\n",
    "            GROUP BY e.estado, c.descricao\n",
    "            ORDER BY count(*) DESC; \n",
    "        \"\"\"\n",
    "    df = pd.read_sql_query(query, con=conn)\n",
    "    causa = df['descricao'][0]\n",
    "    dict_causa[estado] = causa\n",
    "\n",
    "dict_causa"
   ]
  },
  {
   "cell_type": "code",
   "execution_count": 51,
   "metadata": {},
   "outputs": [],
   "source": [
    "dados_json = []\n",
    "for estado, uf in zip(lista_estados, lista_ufs):\n",
    "\n",
    "    acidentes = dict_acidentes[estado]\n",
    "    fatalidades = dict_fatalidades[estado]\n",
    "    via_mais_letal = dict_via[estado]\n",
    "    principal_causa = dict_causa[estado]\n",
    "\n",
    "    dado_estado = {'estado' : estado,\n",
    "                   'UF' : uf,\n",
    "                   'acidentes': acidentes,\n",
    "                   'fatalidades': fatalidades,\n",
    "                   'via_mais_perigosa': via_mais_letal,\n",
    "                   'principal_causa': principal_causa}\n",
    "\n",
    "    dados_json.append(dado_estado)\n",
    "\n",
    "with open(\"dados.json\", \"w\") as arquivo:     \n",
    "    json.dump(dados_json, arquivo, indent=4, ensure_ascii=False)"
   ]
  }
 ],
 "metadata": {
  "kernelspec": {
   "display_name": "Python 3",
   "language": "python",
   "name": "python3"
  },
  "language_info": {
   "codemirror_mode": {
    "name": "ipython",
    "version": 3
   },
   "file_extension": ".py",
   "mimetype": "text/x-python",
   "name": "python",
   "nbconvert_exporter": "python",
   "pygments_lexer": "ipython3",
   "version": "3.11.4"
  }
 },
 "nbformat": 4,
 "nbformat_minor": 2
}
