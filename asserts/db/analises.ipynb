{
 "cells": [
  {
   "cell_type": "code",
   "execution_count": 1,
   "metadata": {},
   "outputs": [],
   "source": [
    "# @title IMPORTAÇÃO DAS BIBLIOTECAS\n",
    "import sqlite3 as sq\n",
    "import json"
   ]
  },
  {
   "cell_type": "code",
   "execution_count": 2,
   "metadata": {},
   "outputs": [],
   "source": [
    "# @title CONEXÃO COM A BASE DE DADOS SQLITE\n",
    "BASE = \"datatran\"\n",
    "conn = sq.connect(f\"{BASE}.db\", check_same_thread=False)"
   ]
  },
  {
   "cell_type": "code",
   "execution_count": 3,
   "metadata": {},
   "outputs": [],
   "source": [
    "# @title FUNÇÃO PARA PROCURAR INFORMAÇÕES NO BANCO\n",
    "def buscarInfo(query, conexao):\n",
    "  try:\n",
    "    cursor = conexao.cursor()\n",
    "    cursor.execute(query)\n",
    "\n",
    "    data = cursor.fetchall()\n",
    "\n",
    "    cursor.close()\n",
    "    print(\"Consulta realizada!\")\n",
    "\n",
    "    return data\n",
    "\n",
    "  except Exception as e:\n",
    "    print(f\"Erro ao consultar BD: {e}\")"
   ]
  },
  {
   "cell_type": "code",
   "execution_count": 4,
   "metadata": {},
   "outputs": [
    {
     "name": "stdout",
     "output_type": "stream",
     "text": [
      "Consulta realizada!\n",
      "[(12, 'AC', 'Acre', 3), (27, 'AL', 'Alagoas', 2), (16, 'AP', 'Amapá', 3), (13, 'AM', 'Amazonas', 3), (29, 'BA', 'Bahia', 2), (23, 'CE', 'Ceará', 1), (53, 'DF', 'Distrito Federal', 1), (32, 'ES', 'Espírito Santo', 4), (52, 'GO', 'Goiás', 1), (21, 'MA', 'Maranhão', 2), (51, 'MT', 'Mato Grosso', 1), (50, 'MS', 'Mato Grosso do Sul', 1), (31, 'MG', 'Minas Gerais', 4), (15, 'PA', 'Pará', 3), (25, 'PB', 'Paraíba', 2), (41, 'PR', 'Paraná', 5), (26, 'PE', 'Pernambuco', 2), (22, 'PI', 'Piauí', 2), (24, 'RN', 'Rio Grande do Norte', 2), (43, 'RS', 'Rio Grande do Sul', 5), (33, 'RJ', 'Rio de Janeiro', 4), (11, 'RO', 'Rondônia', 3), (14, 'RR', 'Roraima', 3), (42, 'SC', 'Santa Catarina', 5), (35, 'SP', 'São Paulo', 4), (28, 'SE', 'Sergipe', 2), (17, 'TO', 'Tocantins', 1)]\n"
     ]
    }
   ],
   "source": [
    "query = \"SELECT * FROM estados\"\n",
    "print(buscarInfo(query, conn))"
   ]
  }
 ],
 "metadata": {
  "kernelspec": {
   "display_name": "Python 3",
   "language": "python",
   "name": "python3"
  },
  "language_info": {
   "codemirror_mode": {
    "name": "ipython",
    "version": 3
   },
   "file_extension": ".py",
   "mimetype": "text/x-python",
   "name": "python",
   "nbconvert_exporter": "python",
   "pygments_lexer": "ipython3",
   "version": "3.11.4"
  }
 },
 "nbformat": 4,
 "nbformat_minor": 2
}
