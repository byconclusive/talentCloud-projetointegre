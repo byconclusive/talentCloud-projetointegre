{
 "cells": [
  {
   "cell_type": "code",
   "execution_count": 3,
   "metadata": {},
   "outputs": [],
   "source": [
    "import json\n",
    "import pandas as pd\n",
    "import mysql.connector"
   ]
  },
  {
   "cell_type": "code",
   "execution_count": 12,
   "metadata": {},
   "outputs": [
    {
     "name": "stdout",
     "output_type": "stream",
     "text": [
      "Conexão não estabelecida 1045 (28000): Access denied for user 'root'@'localhost' (using password: YES)\n"
     ]
    }
   ],
   "source": [
    "USER = \"root\"\n",
    "SENHA = \"ZAQwsx123!@#\"\n",
    "HOST = \"localhost\"\n",
    "DATABASE = \"datatran\"\n",
    "try:\n",
    "    cnx = mysql.connector.connect(user=USER,\n",
    "                              password=SENHA,\n",
    "                              host=HOST,\n",
    "                              database=DATABASE)\n",
    "    print(\"Conexão estabelecida\")\n",
    "except mysql.connector.Error as e: \n",
    "    print(\"Conexão não estabelecida\", e)"
   ]
  },
  {
   "cell_type": "code",
   "execution_count": null,
   "metadata": {},
   "outputs": [],
   "source": [
    "cnx.close()"
   ]
  },
  {
   "cell_type": "code",
   "execution_count": null,
   "metadata": {},
   "outputs": [],
   "source": [
    "data = []\n",
    "\n",
    "estados = list(df['uf'].unique())\n",
    "estados.sort()\n",
    "\n",
    "for estado in estados:\n",
    "  data.append({\"estado\" : estado,\n",
    "   \"Acidentes\" : 0,\n",
    "   \"Fatalidades\" : 0,\n",
    "   \"Via Mais Perigosa\" : \"****\",\n",
    "   \"Principal Causa\" : \"****\"\n",
    "  })"
   ]
  },
  {
   "cell_type": "code",
   "execution_count": null,
   "metadata": {},
   "outputs": [],
   "source": [
    "with open(\"saida/dados.json\", \"w\") as json_file:\n",
    "    json.dump(data, json_file, indent=4, ensure_ascii=False)"
   ]
  }
 ],
 "metadata": {
  "kernelspec": {
   "display_name": "Python 3",
   "language": "python",
   "name": "python3"
  },
  "language_info": {
   "codemirror_mode": {
    "name": "ipython",
    "version": 3
   },
   "file_extension": ".py",
   "mimetype": "text/x-python",
   "name": "python",
   "nbconvert_exporter": "python",
   "pygments_lexer": "ipython3",
   "version": "3.10.6"
  }
 },
 "nbformat": 4,
 "nbformat_minor": 2
}
