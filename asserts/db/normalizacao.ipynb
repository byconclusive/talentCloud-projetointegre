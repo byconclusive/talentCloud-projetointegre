{
 "cells": [
  {
   "cell_type": "code",
   "execution_count": 37,
   "metadata": {
    "id": "J1uM2NSEWDVM"
   },
   "outputs": [],
   "source": [
    "# @title IMPORTAÇÃO DAS BIBLIOTECAS\n",
    "import pandas as pd"
   ]
  },
  {
   "cell_type": "code",
   "execution_count": 38,
   "metadata": {},
   "outputs": [],
   "source": [
    "# @title FUNÇÃO PARA VERIFICAR DADOS DE DATAFRAMES\n",
    "def verficarDF(data_frame):\n",
    "    n_linhas, n_colunas = data_frame.shape\n",
    "    print(f\"Número de Linhas: {n_linhas}\")\n",
    "    print(f\"Número de Colunas: {n_colunas}\")\n",
    "    print(\"COLUNAS:\")\n",
    "    for index, coluna in enumerate(data_frame.columns):\n",
    "        print(f\"{index} - {coluna}\")"
   ]
  },
  {
   "cell_type": "code",
   "execution_count": 40,
   "metadata": {},
   "outputs": [
    {
     "name": "stdout",
     "output_type": "stream",
     "text": [
      "Número de Linhas: 64547\n",
      "Número de Colunas: 30\n",
      "COLUNAS:\n",
      "0 - id\n",
      "1 - data_inversa\n",
      "2 - dia_semana\n",
      "3 - horario\n",
      "4 - uf\n",
      "5 - br\n",
      "6 - km\n",
      "7 - municipio\n",
      "8 - causa_acidente\n",
      "9 - tipo_acidente\n",
      "10 - classificacao_acidente\n",
      "11 - fase_dia\n",
      "12 - sentido_via\n",
      "13 - condicao_metereologica\n",
      "14 - tipo_pista\n",
      "15 - tracado_via\n",
      "16 - uso_solo\n",
      "17 - pessoas\n",
      "18 - mortos\n",
      "19 - feridos_leves\n",
      "20 - feridos_graves\n",
      "21 - ilesos\n",
      "22 - ignorados\n",
      "23 - feridos\n",
      "24 - veiculos\n",
      "25 - latitude\n",
      "26 - longitude\n",
      "27 - regional\n",
      "28 - delegacia\n",
      "29 - uop\n"
     ]
    }
   ],
   "source": [
    "df = pd.read_csv(\"recursos/datatran2022.csv\",sep=\";\",encoding=\"cp1252\")\n",
    "verficarDF(df)"
   ]
  },
  {
   "cell_type": "code",
   "execution_count": 41,
   "metadata": {
    "scrolled": true
   },
   "outputs": [
    {
     "name": "stdout",
     "output_type": "stream",
     "text": [
      "Número de Linhas: 64547\n",
      "Número de Colunas: 19\n",
      "COLUNAS:\n",
      "0 - id\n",
      "1 - data_inversa\n",
      "2 - dia_semana\n",
      "3 - horario\n",
      "4 - uf\n",
      "5 - br\n",
      "6 - municipio\n",
      "7 - causa_acidente\n",
      "8 - tipo_acidente\n",
      "9 - classificacao_acidente\n",
      "10 - condicao_metereologica\n",
      "11 - pessoas\n",
      "12 - mortos\n",
      "13 - feridos_leves\n",
      "14 - feridos_graves\n",
      "15 - ilesos\n",
      "16 - ignorados\n",
      "17 - feridos\n",
      "18 - veiculos\n"
     ]
    }
   ],
   "source": [
    "COLUNAS_EM_USO = [\"km\",\n",
    "                  \"fase_dia\",\n",
    "                  \"sentido_via\",\n",
    "                  \"tipo_pista\",\n",
    "                  \"tracado_via\",\n",
    "                  \"uso_solo\",\n",
    "                  \"latitude\",\n",
    "                  \"longitude\",\n",
    "                  \"regional\",\n",
    "                  \"delegacia\",\n",
    "                  \"uop\"]\n",
    "df = df.drop(columns=COLUNAS_EM_USO)\n",
    "verficarDF(df)"
   ]
  },
  {
   "cell_type": "code",
   "execution_count": 43,
   "metadata": {
    "colab": {
     "base_uri": "https://localhost:8080/",
     "height": 582
    },
    "id": "ZS9iFzJteMqM",
    "outputId": "31e6b5a6-434f-4602-97f6-39b08f4a36ae",
    "scrolled": true
   },
   "outputs": [
    {
     "data": {
      "text/html": [
       "<div>\n",
       "<style scoped>\n",
       "    .dataframe tbody tr th:only-of-type {\n",
       "        vertical-align: middle;\n",
       "    }\n",
       "\n",
       "    .dataframe tbody tr th {\n",
       "        vertical-align: top;\n",
       "    }\n",
       "\n",
       "    .dataframe thead th {\n",
       "        text-align: right;\n",
       "    }\n",
       "</style>\n",
       "<table border=\"1\" class=\"dataframe\">\n",
       "  <thead>\n",
       "    <tr style=\"text-align: right;\">\n",
       "      <th></th>\n",
       "      <th>Nulos</th>\n",
       "      <th>Nulos (%)</th>\n",
       "      <th>Duplicados</th>\n",
       "      <th>Duplicados (%)</th>\n",
       "    </tr>\n",
       "  </thead>\n",
       "  <tbody>\n",
       "    <tr>\n",
       "      <th>id</th>\n",
       "      <td>0.0</td>\n",
       "      <td>0.00</td>\n",
       "      <td>0.0</td>\n",
       "      <td>0.0</td>\n",
       "    </tr>\n",
       "    <tr>\n",
       "      <th>data_inversa</th>\n",
       "      <td>0.0</td>\n",
       "      <td>0.00</td>\n",
       "      <td>0.0</td>\n",
       "      <td>0.0</td>\n",
       "    </tr>\n",
       "    <tr>\n",
       "      <th>dia_semana</th>\n",
       "      <td>0.0</td>\n",
       "      <td>0.00</td>\n",
       "      <td>0.0</td>\n",
       "      <td>0.0</td>\n",
       "    </tr>\n",
       "    <tr>\n",
       "      <th>horario</th>\n",
       "      <td>0.0</td>\n",
       "      <td>0.00</td>\n",
       "      <td>0.0</td>\n",
       "      <td>0.0</td>\n",
       "    </tr>\n",
       "    <tr>\n",
       "      <th>uf</th>\n",
       "      <td>0.0</td>\n",
       "      <td>0.00</td>\n",
       "      <td>0.0</td>\n",
       "      <td>0.0</td>\n",
       "    </tr>\n",
       "    <tr>\n",
       "      <th>br</th>\n",
       "      <td>197.0</td>\n",
       "      <td>0.31</td>\n",
       "      <td>0.0</td>\n",
       "      <td>0.0</td>\n",
       "    </tr>\n",
       "    <tr>\n",
       "      <th>municipio</th>\n",
       "      <td>0.0</td>\n",
       "      <td>0.00</td>\n",
       "      <td>0.0</td>\n",
       "      <td>0.0</td>\n",
       "    </tr>\n",
       "    <tr>\n",
       "      <th>causa_acidente</th>\n",
       "      <td>0.0</td>\n",
       "      <td>0.00</td>\n",
       "      <td>0.0</td>\n",
       "      <td>0.0</td>\n",
       "    </tr>\n",
       "    <tr>\n",
       "      <th>tipo_acidente</th>\n",
       "      <td>0.0</td>\n",
       "      <td>0.00</td>\n",
       "      <td>0.0</td>\n",
       "      <td>0.0</td>\n",
       "    </tr>\n",
       "    <tr>\n",
       "      <th>classificacao_acidente</th>\n",
       "      <td>0.0</td>\n",
       "      <td>0.00</td>\n",
       "      <td>0.0</td>\n",
       "      <td>0.0</td>\n",
       "    </tr>\n",
       "    <tr>\n",
       "      <th>condicao_metereologica</th>\n",
       "      <td>0.0</td>\n",
       "      <td>0.00</td>\n",
       "      <td>0.0</td>\n",
       "      <td>0.0</td>\n",
       "    </tr>\n",
       "    <tr>\n",
       "      <th>pessoas</th>\n",
       "      <td>0.0</td>\n",
       "      <td>0.00</td>\n",
       "      <td>0.0</td>\n",
       "      <td>0.0</td>\n",
       "    </tr>\n",
       "    <tr>\n",
       "      <th>mortos</th>\n",
       "      <td>0.0</td>\n",
       "      <td>0.00</td>\n",
       "      <td>0.0</td>\n",
       "      <td>0.0</td>\n",
       "    </tr>\n",
       "    <tr>\n",
       "      <th>feridos_leves</th>\n",
       "      <td>0.0</td>\n",
       "      <td>0.00</td>\n",
       "      <td>0.0</td>\n",
       "      <td>0.0</td>\n",
       "    </tr>\n",
       "    <tr>\n",
       "      <th>feridos_graves</th>\n",
       "      <td>0.0</td>\n",
       "      <td>0.00</td>\n",
       "      <td>0.0</td>\n",
       "      <td>0.0</td>\n",
       "    </tr>\n",
       "    <tr>\n",
       "      <th>ilesos</th>\n",
       "      <td>0.0</td>\n",
       "      <td>0.00</td>\n",
       "      <td>0.0</td>\n",
       "      <td>0.0</td>\n",
       "    </tr>\n",
       "    <tr>\n",
       "      <th>ignorados</th>\n",
       "      <td>0.0</td>\n",
       "      <td>0.00</td>\n",
       "      <td>0.0</td>\n",
       "      <td>0.0</td>\n",
       "    </tr>\n",
       "    <tr>\n",
       "      <th>feridos</th>\n",
       "      <td>0.0</td>\n",
       "      <td>0.00</td>\n",
       "      <td>0.0</td>\n",
       "      <td>0.0</td>\n",
       "    </tr>\n",
       "    <tr>\n",
       "      <th>veiculos</th>\n",
       "      <td>0.0</td>\n",
       "      <td>0.00</td>\n",
       "      <td>0.0</td>\n",
       "      <td>0.0</td>\n",
       "    </tr>\n",
       "  </tbody>\n",
       "</table>\n",
       "</div>"
      ],
      "text/plain": [
       "                        Nulos  Nulos (%)  Duplicados  Duplicados (%)\n",
       "id                        0.0       0.00         0.0             0.0\n",
       "data_inversa              0.0       0.00         0.0             0.0\n",
       "dia_semana                0.0       0.00         0.0             0.0\n",
       "horario                   0.0       0.00         0.0             0.0\n",
       "uf                        0.0       0.00         0.0             0.0\n",
       "br                      197.0       0.31         0.0             0.0\n",
       "municipio                 0.0       0.00         0.0             0.0\n",
       "causa_acidente            0.0       0.00         0.0             0.0\n",
       "tipo_acidente             0.0       0.00         0.0             0.0\n",
       "classificacao_acidente    0.0       0.00         0.0             0.0\n",
       "condicao_metereologica    0.0       0.00         0.0             0.0\n",
       "pessoas                   0.0       0.00         0.0             0.0\n",
       "mortos                    0.0       0.00         0.0             0.0\n",
       "feridos_leves             0.0       0.00         0.0             0.0\n",
       "feridos_graves            0.0       0.00         0.0             0.0\n",
       "ilesos                    0.0       0.00         0.0             0.0\n",
       "ignorados                 0.0       0.00         0.0             0.0\n",
       "feridos                   0.0       0.00         0.0             0.0\n",
       "veiculos                  0.0       0.00         0.0             0.0"
      ]
     },
     "metadata": {},
     "output_type": "display_data"
    }
   ],
   "source": [
    "# @title VERIFICAÇÃO DE INFORMAÇÕES NULAS OU DUPLICADAS\n",
    "\n",
    "nulos = df.isnull().sum()\n",
    "duplicados = df[df.duplicated()].sum()\n",
    "\n",
    "n_linhas, _ = df.shape\n",
    "nulos_pct = (nulos / n_linhas) * 100\n",
    "duplicados_pct = (duplicados / n_linhas)  * 100\n",
    "\n",
    "display(pd.DataFrame([nulos, nulos_pct, duplicados, duplicados_pct])\n",
    "        .T\n",
    "        .rename(columns={0:\"Nulos\", 1: \"Nulos (%)\", 2: \"Duplicados\", 3: \"Duplicados (%)\"})\n",
    "        .round(decimals = 2)\n",
    "       )"
   ]
  },
  {
   "cell_type": "code",
   "execution_count": 46,
   "metadata": {
    "id": "IO7brjfgfRzF"
   },
   "outputs": [],
   "source": [
    "# @title MANIPULAÇÃO DA COLUNA 'BR'\n",
    "df['br'] = df['br'].fillna(0)\n",
    "df['br'] = df['br'].astype('int64')"
   ]
  },
  {
   "cell_type": "code",
   "execution_count": 47,
   "metadata": {},
   "outputs": [],
   "source": [
    "# @title CONSTANTE USADAS NO CÓDIGO\n",
    "SCHEMA = \"datatran\"\n",
    "DICT_TABELAS_AUX = {'causa_acidente' : 'causas',\n",
    "                    'tipo_acidente' : 'tipos',\n",
    "                    'classificacao_acidente' : 'classificacoes',\n",
    "                    'condicao_metereologica' : 'condicoes'}"
   ]
  },
  {
   "cell_type": "code",
   "execution_count": 64,
   "metadata": {},
   "outputs": [],
   "source": [
    "# @title FUNÇÃO PARA GRAVAÇÃO DE ARQUIVO\n",
    "def gerarArquivo(query, path):\n",
    "    try:\n",
    "        with open(path, \"a\") as arquivo:\n",
    "            arquivo.write(query)\n",
    "            arquivo.close()\n",
    "    except Exception as e:\n",
    "        print(f\"Erro ao editar ou criar arquivo. {type(e)}\")"
   ]
  },
  {
   "cell_type": "code",
   "execution_count": 71,
   "metadata": {
    "id": "EbddGUA-v1eu"
   },
   "outputs": [],
   "source": [
    "# @title GERAÇÃO DAS TABELAS AUXILIARES 1/4\n",
    "lista_tabelas = []\n",
    "for coluna_df, tabela_db in DICT_TABELAS_AUX.items():\n",
    "  tabela = list(set(df[coluna_df]))\n",
    "  tabela.sort()\n",
    "  lista_tabelas.append({tabela_db : tabela})"
   ]
  },
  {
   "cell_type": "code",
   "execution_count": 72,
   "metadata": {},
   "outputs": [],
   "source": [
    "# @title GERAÇÃO DAS TABELAS AUXILIARES 2/4\n",
    "def gerarDLLAux(nome_tabela, caracteres):\n",
    "  tipoDado = f\"VARCHAR({caracteres})\"\n",
    "  query = f\"\"\"CREATE TABLE {SCHEMA}.{nome_tabela} (cod SMALLINT PRIMARY KEY, descricao {tipoDado});\n",
    "\"\"\"\n",
    "  gerarArquivo(query,\"saida/1_ddl_aux.sql\")"
   ]
  },
  {
   "cell_type": "code",
   "execution_count": 67,
   "metadata": {
    "id": "IOP9Xm9u30e_"
   },
   "outputs": [],
   "source": [
    "# @title GERAÇÃO DAS TABELAS AUXILIARES 3/4\n",
    "map_tabelas = {}\n",
    "def gerarDMLAux(nome_tabela, descricoes_tabela):\n",
    "  for cod, descricao in enumerate(descricoes_tabela, 1):\n",
    "    query = f\"\"\"INSERT INTO {SCHEMA}.{nome_tabela} (cod, descricao) VALUES ('{cod}', '{descricao}');\n",
    "\"\"\"\n",
    "    gerarArquivo(query,\"saida/2_dml_aux.sql\")\n",
    "    map_tabelas[descricao] = cod\n"
   ]
  },
  {
   "cell_type": "code",
   "execution_count": 68,
   "metadata": {},
   "outputs": [],
   "source": [
    "# @title GERAÇÃO DAS TABELAS AUXILIARES 4/4\n",
    "\n",
    "#verificação do tamanho máximo de caracteres\n",
    "for dictTabela in lista_tabelas:\n",
    "    caracteres = max([len(x) for x in dictTabela.values()]) + 1\n",
    "\n",
    "    #chamada das funções\n",
    "    for nome, descricoes in dictTabela.items():\n",
    "        gerarDLLAux(nome,caracteres)\n",
    "        gerarDMLAux(nome,descricoes)"
   ]
  },
  {
   "cell_type": "code",
   "execution_count": 73,
   "metadata": {},
   "outputs": [
    {
     "name": "stdout",
     "output_type": "stream",
     "text": [
      "CREATE TABLE datatran.regioes (cod SMALLINT PRIMARY KEY, regiao VARCHAR(13));\n",
      "\n"
     ]
    }
   ],
   "source": [
    "# @title GERAÇÃO DA TABELA DE REGIÕES 1/2\n",
    "\n",
    "#criação da tabela\n",
    "query = f\"\"\"CREATE TABLE {SCHEMA}.regioes (cod SMALLINT PRIMARY KEY, regiao VARCHAR(13));\n",
    "\"\"\"\n",
    "gerarArquivo(query,\"saida/3_ddl_regioes.sql\")\n",
    "print(query)"
   ]
  },
  {
   "cell_type": "code",
   "execution_count": 74,
   "metadata": {},
   "outputs": [
    {
     "name": "stdout",
     "output_type": "stream",
     "text": [
      "INSERT INTO datatran.regioes (cod, regiao) VALUES ('1', 'Centro-Oeste');\n",
      "\n",
      "INSERT INTO datatran.regioes (cod, regiao) VALUES ('2', 'Nordeste');\n",
      "\n",
      "INSERT INTO datatran.regioes (cod, regiao) VALUES ('3', 'Norte');\n",
      "\n",
      "INSERT INTO datatran.regioes (cod, regiao) VALUES ('4', 'Sudeste');\n",
      "\n",
      "INSERT INTO datatran.regioes (cod, regiao) VALUES ('5', 'Sul');\n",
      "\n"
     ]
    }
   ],
   "source": [
    "# @title GERAÇÃO DA TABELA DE REGIÕES 2/2\n",
    "\n",
    "#inserção de dados\n",
    "dfRegioes = pd.read_csv(\"recursos/regioes.csv\")\n",
    "\n",
    "for cod, regiao in zip(dfRegioes['cod'],dfRegioes['regiao']):\n",
    "  query = f\"\"\"INSERT INTO {SCHEMA}.regioes (cod, regiao) VALUES ('{cod}', '{regiao}');\n",
    "\"\"\"\n",
    "  gerarArquivo(query,\"saida/4_dml_regioes.sql\")\n",
    "  print(query)"
   ]
  },
  {
   "cell_type": "code",
   "execution_count": 75,
   "metadata": {},
   "outputs": [],
   "source": [
    "# @title GERAÇÃO DA TABELA DE ESTADOS 1/2\n",
    "\n",
    "#criação da tabela\n",
    "query = f\"\"\"CREATE TABLE {SCHEMA}.estados (\n",
    "    cod SMALLINT PRIMARY KEY,\n",
    "    uf VARCHAR(2),\n",
    "    estado VARCHAR(20),\n",
    "    cod_regiao SMALLINT,\n",
    "    \n",
    "    FOREIGN KEY (cod_regiao) REFERENCES {SCHEMA}.regioes (cod));\n",
    "\"\"\"\n",
    "gerarArquivo(query,\"saida/5_ddl_estados.sql\")"
   ]
  },
  {
   "cell_type": "code",
   "execution_count": 23,
   "metadata": {
    "id": "C7GXSike1YGD"
   },
   "outputs": [
    {
     "name": "stdout",
     "output_type": "stream",
     "text": [
      "Erro ao editar ou criar arquivo. <class 'FileNotFoundError'>\n"
     ]
    }
   ],
   "source": [
    "# @title GERAÇÃO DA TABELA DE MUNICIPIOS 1/3\n",
    "\n",
    "#criação da tabela\n",
    "query = f\"\"\"CREATE TABLE {SCHEMA}.municipios(\n",
    "    cod SMALLINT PRIMARY KEY,\n",
    "    municipio VARCHAR(33),\n",
    "    cod_estado SMALLINT,\n",
    "    \n",
    "    FOREIGN KEY (cod_estado) REFERENCES {SCHEMA}.estados (cod));\n",
    "\"\"\"\n",
    "gerarArquivo(query,\"saida/7_ddl_mun.sql\")\n"
   ]
  },
  {
   "cell_type": "code",
   "execution_count": 24,
   "metadata": {},
   "outputs": [
    {
     "ename": "NameError",
     "evalue": "name 'dfMunicipios' is not defined",
     "output_type": "error",
     "traceback": [
      "\u001b[0;31m---------------------------------------------------------------------------\u001b[0m",
      "\u001b[0;31mNameError\u001b[0m                                 Traceback (most recent call last)",
      "Cell \u001b[0;32mIn[24], line 7\u001b[0m\n\u001b[1;32m      4\u001b[0m map_municipios \u001b[38;5;241m=\u001b[39m {}\n\u001b[1;32m      5\u001b[0m cod \u001b[38;5;241m=\u001b[39m \u001b[38;5;241m1\u001b[39m\n\u001b[0;32m----> 7\u001b[0m \u001b[38;5;28;01mfor\u001b[39;00m municipio, cod_estado \u001b[38;5;129;01min\u001b[39;00m \u001b[38;5;28mzip\u001b[39m(\u001b[43mdfMunicipios\u001b[49m[\u001b[38;5;124m'\u001b[39m\u001b[38;5;124mmunicipio\u001b[39m\u001b[38;5;124m'\u001b[39m], dfMunicipios[\u001b[38;5;124m'\u001b[39m\u001b[38;5;124muf\u001b[39m\u001b[38;5;124m'\u001b[39m]):\n\u001b[1;32m      8\u001b[0m   query \u001b[38;5;241m=\u001b[39m \u001b[38;5;124mf\u001b[39m\u001b[38;5;124m\"\"\"\u001b[39m\u001b[38;5;124mINSERT INTO \u001b[39m\u001b[38;5;132;01m{\u001b[39;00mSCHEMA\u001b[38;5;132;01m}\u001b[39;00m\u001b[38;5;124m.municipios(cod,municipio,cod_estado) VALUES (\u001b[39m\u001b[38;5;124m'\u001b[39m\u001b[38;5;132;01m{\u001b[39;00mcod\u001b[38;5;132;01m}\u001b[39;00m\u001b[38;5;124m'\u001b[39m\u001b[38;5;124m, \u001b[39m\u001b[38;5;124m'\u001b[39m\u001b[38;5;132;01m{\u001b[39;00mmunicipio\u001b[38;5;132;01m}\u001b[39;00m\u001b[38;5;124m'\u001b[39m\u001b[38;5;124m, \u001b[39m\u001b[38;5;124m'\u001b[39m\u001b[38;5;132;01m{\u001b[39;00mcod_estado\u001b[38;5;132;01m}\u001b[39;00m\u001b[38;5;124m'\u001b[39m\u001b[38;5;124m);\u001b[39m\n\u001b[1;32m      9\u001b[0m \u001b[38;5;124m\"\"\"\u001b[39m\n\u001b[1;32m     10\u001b[0m   gerarArquivo(query,\u001b[38;5;124m\"\u001b[39m\u001b[38;5;124msaida/8_dml_mun.sql\u001b[39m\u001b[38;5;124m\"\u001b[39m)\n",
      "\u001b[0;31mNameError\u001b[0m: name 'dfMunicipios' is not defined"
     ]
    }
   ],
   "source": [
    "# @title GERAÇÃO DA TABELA DE MUNICIPIOS 3/3\n",
    "\n",
    "#inserção de dados\n",
    "map_municipios = {}\n",
    "cod = 1\n",
    "\n",
    "for municipio, cod_estado in zip(dfMunicipios['municipio'], dfMunicipios['uf']):\n",
    "  query = f\"\"\"INSERT INTO {SCHEMA}.municipios(cod,municipio,cod_estado) VALUES ('{cod}', '{municipio}', '{cod_estado}');\n",
    "\"\"\"\n",
    "  gerarArquivo(query,\"saida/8_dml_mun.sql\")\n",
    "  map_municipios[municipio] = cod\n",
    "  cod +=1"
   ]
  },
  {
   "cell_type": "code",
   "execution_count": null,
   "metadata": {},
   "outputs": [],
   "source": [
    "# @title GERAÇÃO DA TABELA DE DIAS DA SEMANA 1/2\n",
    "\n",
    "#criação da tabela\n",
    "query = f\"\"\"CREATE TABLE {SCHEMA}.dias_semana(cod SMALLINT PRIMARY KEY, dia_semana VARCHAR(11));\n",
    "\"\"\"\n",
    "gerarArquivo(\"saida/9_ddl_dias.sql\")"
   ]
  },
  {
   "cell_type": "code",
   "execution_count": null,
   "metadata": {},
   "outputs": [],
   "source": [
    "# @title GERAÇÃO DA TABELA DE REGISTROS DE ACIDENTES 1/2\n",
    "\n",
    "#criação da tabela\n",
    "query = f\"\"\"CREATE TABLE {SCHEMA}.acidentes (\n",
    "    cod INT PRIMARY KEY,\n",
    "    data_acidente DATE,\n",
    "    hora TIME,\n",
    "    rodovia SMALLINT,\n",
    "    mortos SMALLINT,\n",
    "    feridos_leves SMALLINT,\n",
    "    feridos_graves SMALLINT,\n",
    "    ilesos SMALLINT,\n",
    "    ignorados SMALLINT,\n",
    "    veiculos SMALLINT);\n",
    "\"\"\"\n",
    "gerarArquivo(query,\"saida/11_ddl_acid.sql\")"
   ]
  },
  {
   "cell_type": "code",
   "execution_count": null,
   "metadata": {},
   "outputs": [],
   "source": [
    "# @title GERAÇÃO DA TABELA DE REGISTROS DOS ACIDENTES 2/3\n",
    "\n",
    "#inserção de dados na tabela (via COPY ou LOAD DATA)\n",
    "COLUNAS_ACID = ['id',\n",
    "                'data_inversa',\n",
    "                'horario',\n",
    "                'br',\n",
    "                'mortos',\n",
    "                'feridos_leves',\n",
    "                'feridos_graves',\n",
    "                'ilesos',\n",
    "                'ignorados',\n",
    "                'veiculos']\n",
    "\n",
    "acidentes = df[COLUNAS_ACID]\n",
    "acidentes.to_csv(f\"saida/12_dml_acid.csv\",sep=\",\",encoding=\"UTF-8\",header=False,index=False)"
   ]
  },
  {
   "cell_type": "code",
   "execution_count": null,
   "metadata": {},
   "outputs": [],
   "source": [
    "# @title GERAÇÃO DA TABELA DE REGISTROS DOS ACIDENTES 3/3\n",
    "\n",
    "#inserção de dados\n",
    "query = f\"\"\"\n",
    "LOAD DATA \n",
    "INFILE 'C:/Users/aps/Documents/MS/Tratamento de Dados/saida/ocorrencias/14_ocorrencias_{i}.csv'\n",
    "INTO TABLE datatran.ocorrencias\n",
    "FIELDS TERMINATED BY \",\";\n",
    "\"\"\"\n",
    "gerarArquivo(query,\"saida/13_dml_acid.sql\")"
   ]
  },
  {
   "cell_type": "code",
   "execution_count": null,
   "metadata": {
    "id": "ubeKJ6Ywxfoo"
   },
   "outputs": [],
   "source": [
    "# @title GERAÇÃO DA TABELA DE OCORRÊNCIA 1/2\n",
    "\n",
    "#criação da tabela\n",
    "query = f\"\"\"CREATE TABLE {SCHEMA}.ocorrencias (\n",
    "  cod_acidente INT,\n",
    "  cod_dia SMALLINT,\n",
    "  cod_estado SMALLINT,\n",
    "  cod_municipio SMALLINT,\n",
    "  cod_causa SMALLINT,\n",
    "  cod_tipo SMALLINT,\n",
    "  cod_classificacao SMALLINT,\n",
    "  cod_condicao SMALLINT,\n",
    "  \n",
    "  FOREIGN KEY (cod_acidente) REFERENCES {SCHEMA}.acidentes (cod),\n",
    "  FOREIGN KEY (cod_dia) REFERENCES {SCHEMA}.dias_semana (cod),\n",
    "  FOREIGN KEY (cod_estado) REFERENCES {SCHEMA}.estados (cod),\n",
    "  FOREIGN KEY (cod_municipio) REFERENCES {SCHEMA}.municipios (cod),\n",
    "  FOREIGN KEY (cod_causa) REFERENCES {SCHEMA}.causas (cod),\n",
    "  FOREIGN KEY (cod_tipo) REFERENCES {SCHEMA}.tipos (cod),\n",
    "  FOREIGN KEY (cod_classificacao) REFERENCES {SCHEMA}.classificacoes (cod),\n",
    "  FOREIGN KEY (cod_condicao) REFERENCES {SCHEMA}.condicoes (cod));\n",
    "\"\"\"\n",
    "gerarArquivo(query,\"saida/14_ddl_ocorr.sql\")\n"
   ]
  },
  {
   "cell_type": "code",
   "execution_count": null,
   "metadata": {
    "colab": {
     "base_uri": "https://localhost:8080/"
    },
    "id": "zHL7lwrI0eGp",
    "outputId": "23385227-b7d8-4c93-931d-629f08685796"
   },
   "outputs": [],
   "source": [
    "# @title GERAÇÃO DA TABELA DE OCORRÊNCIA 2/2\n",
    "\n",
    "COLUNAS_REG = ['id',\n",
    "               'dia_semana',\n",
    "               'uf',\n",
    "               'municipio',\n",
    "               'causa_acidente',\n",
    "               'tipo_acidente',\n",
    "               'classificacao_acidente',\n",
    "               'condicao_metereologica']\n",
    "\n",
    "#inserção de dados na tabela (via COPY ou LOAD DATA)\n",
    "ocorrencias = df[COLUNAS_REG]\n",
    "for coluna in DICT_TABELAS_AUX.keys():\n",
    "  ocorrencias[coluna] = ocorrencias[coluna].map(map_tabelas)\n",
    "\n",
    "ocorrencias['uf'] = ocorrencias['uf'].map(map_estados)\n",
    "ocorrencias['municipio'] = ocorrencias['municipio'].map(map_municipios)\n",
    "ocorrencias['dia_semana'] = ocorrencias['dia_semana'].map(map_dias)\n",
    "\n",
    "ocorrencias.to_csv(f\"saida/15_dml_ocorr.csv\",sep=\",\",header=False,index=False,chunksize = 1_000)"
   ]
  },
  {
   "cell_type": "code",
   "execution_count": null,
   "metadata": {},
   "outputs": [],
   "source": [
    "data = []\n",
    "\n",
    "estados = dfEstados['uf']\n",
    "\n",
    "acidentes = df.groupby('uf').count()['id']\n",
    "\n",
    "fatalidades = df.groupby('uf').sum()['mortos']\n",
    "\n",
    "vias = []\n",
    "causas = []\n",
    "for uf in dfEstados['uf']:\n",
    "    via = df.where(df['uf'] == uf).groupby('br').sum()['mortos']\n",
    "    vias.append(via.idxmax(axis = 0))\n",
    "\n",
    "    causa = df.where(df['uf'] == uf).groupby('causa_acidente').sum()['mortos']\n",
    "    causas.append(causa.idxmax(axis = 0))\n",
    "\n",
    "\n",
    "\n",
    "for estado, acidente, fatalidade, via, causa in zip(estados,acidentes, fatalidades, vias, causas):\n",
    "  data.append({\"estado\" : estado,\n",
    "   \"acidentes\" : acidente,\n",
    "   \"fatalidades\" : fatalidade,\n",
    "   \"via_mais_perigosa\" : via,\n",
    "   \"principal_causa\" : causa\n",
    "  })"
   ]
  }
 ],
 "metadata": {
  "colab": {
   "provenance": []
  },
  "kernelspec": {
   "display_name": "Python 3 (ipykernel)",
   "language": "python",
   "name": "python3"
  },
  "language_info": {
   "codemirror_mode": {
    "name": "ipython",
    "version": 3
   },
   "file_extension": ".py",
   "mimetype": "text/x-python",
   "name": "python",
   "nbconvert_exporter": "python",
   "pygments_lexer": "ipython3",
   "version": "3.11.4"
  }
 },
 "nbformat": 4,
 "nbformat_minor": 4
}
